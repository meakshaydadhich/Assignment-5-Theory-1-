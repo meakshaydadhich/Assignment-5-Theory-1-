{
 "cells": [
  {
   "cell_type": "code",
   "execution_count": 1,
   "id": "38fa69ce",
   "metadata": {},
   "outputs": [],
   "source": [
    "# Q-1 Who Developed Python Programming Language ?\n",
    "\n",
    "# Ans.  Guido van Rossum"
   ]
  },
  {
   "cell_type": "code",
   "execution_count": 2,
   "id": "a031413a",
   "metadata": {},
   "outputs": [],
   "source": [
    "# Q-2 Which type of Programming does Python support ?\n",
    "\n",
    "# Ans.  Python is an interpreted programming language, which supports object-oriented, structured, and functional programming."
   ]
  },
  {
   "cell_type": "code",
   "execution_count": 3,
   "id": "9b6515ca",
   "metadata": {},
   "outputs": [],
   "source": [
    "# Q-3 Is Python case sensitive when dealing with identifiers ?\n",
    "\n",
    "# Ans. Yes, Python is a case-sensitive language"
   ]
  },
  {
   "cell_type": "code",
   "execution_count": 4,
   "id": "339ace80",
   "metadata": {},
   "outputs": [],
   "source": [
    "# Q-4 What is the correct extension of the Python File ?\n",
    "\n",
    "# Ans  .py"
   ]
  },
  {
   "cell_type": "code",
   "execution_count": 5,
   "id": "bc36539f",
   "metadata": {},
   "outputs": [],
   "source": [
    "# Q-5 Is Python code compiled or interpreted ?\n",
    "\n",
    "# Ans. Python is both compiled as well as an interpreted language, which means when we run a python code, \n",
    "#      it is first compiled and then interpreted line by line. The compile part gets deleted as soon as the code gets\n",
    "#      executed in Python so that the programmer doesn't get onto unnecessary complexity."
   ]
  },
  {
   "cell_type": "code",
   "execution_count": 6,
   "id": "1733ef09",
   "metadata": {},
   "outputs": [],
   "source": [
    "# Q-6  Name a few block of code used to define in Python Language ?\n",
    "\n",
    "# Ans. Indentation is used to define a block of code in python"
   ]
  },
  {
   "cell_type": "code",
   "execution_count": 7,
   "id": "08a56d64",
   "metadata": {},
   "outputs": [],
   "source": [
    "# Q-7 State a Character used to give single-line comments in Python ? \n",
    "\n",
    "# Ans. hash symbol #"
   ]
  },
  {
   "cell_type": "code",
   "execution_count": 8,
   "id": "82115b06",
   "metadata": {},
   "outputs": [],
   "source": [
    "# Q-8 Mention function which can help us to find the version of python that we are currently working on ?\n",
    "\n",
    "# Ans. The function sys. version can help us to find the version of python that we are currently working on.\n"
   ]
  },
  {
   "cell_type": "code",
   "execution_count": 9,
   "id": "a552d676",
   "metadata": {},
   "outputs": [],
   "source": [
    "# Q-9 Python supports the creation of anonymous function at runtime, using a construct called ------------ \n",
    "\n",
    "# Ans. Python supports the creation of anonymous functions (i.e. functions that are not bound to a name) at runtime, \n",
    "#      using a construct called lambda. Lambda functions are restricted to a single expression. They can be used wherever\n",
    "#      normal functions can be used."
   ]
  },
  {
   "cell_type": "code",
   "execution_count": 10,
   "id": "782b5889",
   "metadata": {},
   "outputs": [],
   "source": [
    "# Q-10 What does pip stand for pyhon ?\n",
    "\n",
    "# Ans. PIP is a recursive acronym for “Preferred Installer Program” or PIP Installs Packages. It is a command-line utilit\n",
    "#      that installs, reinstalls, or uninstalls PyPI packages with one simple command: pip."
   ]
  },
  {
   "cell_type": "code",
   "execution_count": 11,
   "id": "8d9d055d",
   "metadata": {},
   "outputs": [],
   "source": [
    "# Q-11 Mention a few built-in function in python ?\n",
    "\n",
    "# Ans. print( ) function.\n",
    "#      type( ) function.\n",
    "#      input( ) function.\n",
    "#      abs( ) function.\n",
    "#      pow( ) function.\n",
    "#      dir( ) function.\n",
    "#      sorted( ) function."
   ]
  },
  {
   "cell_type": "code",
   "execution_count": 12,
   "id": "6b971fcc",
   "metadata": {},
   "outputs": [],
   "source": [
    "# Q-12 What is the maximum possible length of an identifier in Python ?\n",
    "\n",
    "# Ans. Python identifiers are unlimited in length\" but as per PEP-8 you should limit identifier to a maximum of 79 \n",
    "#      character for better readability but there is no restriction."
   ]
  },
  {
   "cell_type": "code",
   "execution_count": 13,
   "id": "7700e0da",
   "metadata": {},
   "outputs": [],
   "source": [
    "# Q-13 What are the benifits of using Python ?\n",
    "\n",
    "# Ans. Readable and Maintainable Code. ...\n",
    "#      Supports Multiple Programming Paradigms. ...\n",
    "#      Extensive Standard Library. ...\n",
    "#      High Compatibility. ...\n",
    "#      Simplify Complex Software Development. ...\n",
    "#      Multiple Open-Source Frameworks and Tools. ...\n",
    "#      Test-Driven Development. ...\n",
    "#      Easy to Read and Learn"
   ]
  },
  {
   "cell_type": "code",
   "execution_count": 14,
   "id": "aa4f3377",
   "metadata": {},
   "outputs": [],
   "source": [
    "# Q-14 How is memory managed in python ?\n",
    "\n",
    "# Ans. You can classify memory management in Python in one of two ways: dynamic allocation or static allocation.\n",
    "#      Dynamic allocation occurs as the program is running. This means that as the program operates, it can dynamically \n",
    "#      determine where to allocate memory while reusing and releasing it. \n",
    "#      Static memory allocation happens before the running of a program, predetermining the amount and distribution of the\n",
    "#      memory, and without the ability to reuse memory."
   ]
  },
  {
   "cell_type": "code",
   "execution_count": 15,
   "id": "6510d527",
   "metadata": {},
   "outputs": [],
   "source": [
    "# Q-15 How to install Python on Windows and set path variables ?\n",
    "\n",
    "# Ans. Step 1: Select Python Version. ...\n",
    "#      Step 2: Download Python Executable Installer. ...\n",
    "#      Step 3: Run Executable Installer. ...\n",
    "#      Step 4: Add Python to Path (Optional) ...\n",
    "#      Step 5: Verify Python Was Installed on Windows. ...\n",
    "#      Step 6: Verify PIP Was Installed. ...\n",
    "#      Step 7: Install virtualenv (Optional)"
   ]
  },
  {
   "cell_type": "code",
   "execution_count": null,
   "id": "665602bc",
   "metadata": {},
   "outputs": [],
   "source": [
    "# Q-16 Is Indentation required in Python ?\n",
    "\n",
    "# Ans Indentation is mandatory in python to define the blocks of statements. The number of spaces must be uniform in a \n",
    "#     block of code. It is preferred to use whitespaces instead of tabs to indent in python."
   ]
  }
 ],
 "metadata": {
  "kernelspec": {
   "display_name": "Python 3 (ipykernel)",
   "language": "python",
   "name": "python3"
  },
  "language_info": {
   "codemirror_mode": {
    "name": "ipython",
    "version": 3
   },
   "file_extension": ".py",
   "mimetype": "text/x-python",
   "name": "python",
   "nbconvert_exporter": "python",
   "pygments_lexer": "ipython3",
   "version": "3.10.9"
  }
 },
 "nbformat": 4,
 "nbformat_minor": 5
}
